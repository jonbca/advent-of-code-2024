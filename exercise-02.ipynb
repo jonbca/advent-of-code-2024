{
 "cells": [
  {
   "cell_type": "markdown",
   "metadata": {},
   "source": [
    "# Setup"
   ]
  },
  {
   "cell_type": "code",
   "execution_count": null,
   "metadata": {
    "dotnet_interactive": {
     "language": "fsharp"
    },
    "polyglot_notebook": {
     "kernelName": "fsharp"
    }
   },
   "outputs": [],
   "source": [
    "let parseLine (line: string) =\n",
    "    line\n",
    "    |> _.Split(' ')\n",
    "    |> Array.toList\n",
    "    |> List.map (fun x -> int x)\n",
    "\n",
    "open System\n",
    "open System.IO\n",
    "\n",
    "let reportsTask = task {\n",
    "    let path = Path.Combine(\"./\", \"input\", \"02.txt\")\n",
    "    let! lines = File.ReadAllLinesAsync path\n",
    "\n",
    "    return lines |> List.ofArray |> List.map parseLine\n",
    "}"
   ]
  },
  {
   "cell_type": "markdown",
   "metadata": {},
   "source": [
    "# Part 1"
   ]
  },
  {
   "cell_type": "code",
   "execution_count": null,
   "metadata": {
    "dotnet_interactive": {
     "language": "fsharp"
    },
    "polyglot_notebook": {
     "kernelName": "fsharp"
    }
   },
   "outputs": [
    {
     "data": {
      "text/html": [
       "<div class=\"dni-plaintext\"><pre>598</pre></div><style>\r\n",
       ".dni-code-hint {\r\n",
       "    font-style: italic;\r\n",
       "    overflow: hidden;\r\n",
       "    white-space: nowrap;\r\n",
       "}\r\n",
       ".dni-treeview {\r\n",
       "    white-space: nowrap;\r\n",
       "}\r\n",
       ".dni-treeview td {\r\n",
       "    vertical-align: top;\r\n",
       "    text-align: start;\r\n",
       "}\r\n",
       "details.dni-treeview {\r\n",
       "    padding-left: 1em;\r\n",
       "}\r\n",
       "table td {\r\n",
       "    text-align: start;\r\n",
       "}\r\n",
       "table tr { \r\n",
       "    vertical-align: top; \r\n",
       "    margin: 0em 0px;\r\n",
       "}\r\n",
       "table tr td pre \r\n",
       "{ \r\n",
       "    vertical-align: top !important; \r\n",
       "    margin: 0em 0px !important;\r\n",
       "} \r\n",
       "table th {\r\n",
       "    text-align: start;\r\n",
       "}\r\n",
       "</style>"
      ]
     },
     "metadata": {},
     "output_type": "display_data"
    }
   ],
   "source": [
    "let rec allIncreasing(report: list<int>) =\n",
    "    match report with\n",
    "    | h1 :: h2 :: tail -> h2 > h1 && allIncreasing(h2 :: tail)\n",
    "    | _ -> true\n",
    "\n",
    "let rec allDecreasing(report: list<int>) =\n",
    "    match report with\n",
    "    | h1 :: h2 :: tail -> h2 < h1 && allDecreasing(h2 :: tail)\n",
    "    | _ -> true\n",
    "\n",
    "let rec allLevelsSafe(report: list<int>) =\n",
    "    match report with\n",
    "    | h1 :: h2 :: tail -> Math.Abs(h2 - h1) >= 1 && Math.Abs(h2 - h1) <= 3 && allLevelsSafe(h2 :: tail)\n",
    "    | _ -> true\n",
    "\n",
    "let isSafe(report: list<int>) =\n",
    "    (allIncreasing(report) || allDecreasing(report)) && allLevelsSafe(report)\n",
    "\n",
    "let countSafe(reports: list<list<int>>) =\n",
    "    reports\n",
    "    |> List.filter isSafe\n",
    "    |> _.Length\n",
    "\n",
    "reportsTask\n",
    "|> Async.AwaitTask\n",
    "|> Async.RunSynchronously\n",
    "|> countSafe\n"
   ]
  },
  {
   "cell_type": "markdown",
   "metadata": {},
   "source": [
    "# Part 2"
   ]
  },
  {
   "cell_type": "code",
   "execution_count": null,
   "metadata": {
    "dotnet_interactive": {
     "language": "fsharp"
    },
    "polyglot_notebook": {
     "kernelName": "fsharp"
    }
   },
   "outputs": [
    {
     "data": {
      "text/html": [
       "<div class=\"dni-plaintext\"><pre>634</pre></div><style>\r\n",
       ".dni-code-hint {\r\n",
       "    font-style: italic;\r\n",
       "    overflow: hidden;\r\n",
       "    white-space: nowrap;\r\n",
       "}\r\n",
       ".dni-treeview {\r\n",
       "    white-space: nowrap;\r\n",
       "}\r\n",
       ".dni-treeview td {\r\n",
       "    vertical-align: top;\r\n",
       "    text-align: start;\r\n",
       "}\r\n",
       "details.dni-treeview {\r\n",
       "    padding-left: 1em;\r\n",
       "}\r\n",
       "table td {\r\n",
       "    text-align: start;\r\n",
       "}\r\n",
       "table tr { \r\n",
       "    vertical-align: top; \r\n",
       "    margin: 0em 0px;\r\n",
       "}\r\n",
       "table tr td pre \r\n",
       "{ \r\n",
       "    vertical-align: top !important; \r\n",
       "    margin: 0em 0px !important;\r\n",
       "} \r\n",
       "table th {\r\n",
       "    text-align: start;\r\n",
       "}\r\n",
       "</style>"
      ]
     },
     "metadata": {},
     "output_type": "display_data"
    }
   ],
   "source": [
    "let removeLevel(report: list<int>, level: int) =\n",
    "    report[..level-1] @ report[level+1..]\n",
    "\n",
    "let isSafeWithCompensator(report: list<int>) =\n",
    "    seq { for i in 0..report.Length do removeLevel(report, i) }\n",
    "    |> Seq.map isSafe\n",
    "    |> Seq.exists (fun x -> x)\n",
    "\n",
    "let countSafeWithCompensator(reports: list<list<int>>) =\n",
    "    reports\n",
    "    |> List.filter isSafeWithCompensator\n",
    "    |> _.Length\n",
    "\n",
    "reportsTask\n",
    "|> Async.AwaitTask\n",
    "|> Async.RunSynchronously\n",
    "|> countSafeWithCompensator\n"
   ]
  }
 ],
 "metadata": {
  "kernelspec": {
   "display_name": ".NET (C#)",
   "language": "C#",
   "name": ".net-csharp"
  },
  "polyglot_notebook": {
   "kernelInfo": {
    "defaultKernelName": "csharp",
    "items": [
     {
      "aliases": [],
      "name": "csharp"
     },
     {
      "aliases": [],
      "languageName": "fsharp",
      "name": "fsharp"
     }
    ]
   }
  }
 },
 "nbformat": 4,
 "nbformat_minor": 2
}
